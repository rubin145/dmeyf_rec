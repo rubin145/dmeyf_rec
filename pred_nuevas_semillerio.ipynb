{
 "cells": [
  {
   "cell_type": "code",
   "execution_count": 3,
   "metadata": {},
   "outputs": [],
   "source": [
    "from lightgbm import LGBMClassifier\n",
    "import numpy as np\n",
    "from utils import semillerio_bools, semillerio_scores"
   ]
  },
  {
   "cell_type": "code",
   "execution_count": 50,
   "metadata": {},
   "outputs": [],
   "source": [
    "X_dev = np.load('data_proceso/X_dev.npy',allow_pickle=True)\n",
    "y_dev = np.load('data_proceso/y_dev.npy')\n",
    "X_aplic = np.load('data_proceso/X_aplic.npy',allow_pickle=True)\n",
    "feature_names = list(np.load('data_proceso/feature_names.npy'))"
   ]
  },
  {
   "cell_type": "code",
   "execution_count": null,
   "metadata": {},
   "outputs": [],
   "source": [
    "params = {\n",
    "    \n",
    "}"
   ]
  },
  {
   "cell_type": "code",
   "execution_count": 49,
   "metadata": {},
   "outputs": [
    {
     "ename": "SyntaxError",
     "evalue": "invalid syntax (3788761889.py, line 3)",
     "output_type": "error",
     "traceback": [
      "\u001b[0;36m  Cell \u001b[0;32mIn[49], line 3\u001b[0;36m\u001b[0m\n\u001b[0;31m    preds = np.empty((105000,50))\u001b[0m\n\u001b[0m    ^\u001b[0m\n\u001b[0;31mSyntaxError\u001b[0m\u001b[0;31m:\u001b[0m invalid syntax\n"
     ]
    }
   ],
   "source": [
    "idx = semillerio_bools(size=X_aplic.shape[0],\n",
    "                    n_seeds=50,\n",
    "                    X=X_dev,\n",
    "                    y=y_dev,\n",
    "                    new_X=X_aplic,\n",
    "                    feature_names=feature_names,\n",
    "                    estimator=LGBMClassifier,\n",
    "                    params=params)\n",
    "target = X_aplic[:,0][idx]\n",
    "\n",
    "np.savetxt('data_final/rubinstein_entrega.txt', target, fmt='%d')"
   ]
  },
  {
   "cell_type": "code",
   "execution_count": null,
   "metadata": {},
   "outputs": [],
   "source": [
    "idx = semillerio_scores(size=X_aplic.shape[0],\n",
    "                    n_seeds=50,\n",
    "                    X=X_dev,\n",
    "                    y=y_dev,\n",
    "                    new_X=X_aplic,\n",
    "                    feature_names=feature_names,\n",
    "                    estimator=LGBMClassifier,\n",
    "                    params=params)\n",
    "target = X_aplic[:,0][idx]\n",
    "\n",
    "np.savetxt('data_final/rubinstein_entrega.txt', target, fmt='%d')"
   ]
  }
 ],
 "metadata": {
  "interpreter": {
   "hash": "83f819a7c7b4b04da698bb686dbfa0aeaa192108f30ae9d3cf384d70516a554d"
  },
  "kernelspec": {
   "display_name": "Python 3.8.10 ('dmeyf-kP6Zbi_a')",
   "language": "python",
   "name": "python3"
  },
  "language_info": {
   "codemirror_mode": {
    "name": "ipython",
    "version": 3
   },
   "file_extension": ".py",
   "mimetype": "text/x-python",
   "name": "python",
   "nbconvert_exporter": "python",
   "pygments_lexer": "ipython3",
   "version": "3.8.10"
  },
  "orig_nbformat": 4
 },
 "nbformat": 4,
 "nbformat_minor": 2
}
