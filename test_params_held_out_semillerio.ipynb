{
 "cells": [
  {
   "cell_type": "code",
   "execution_count": 3,
   "metadata": {},
   "outputs": [],
   "source": [
    "from lightgbm import LGBMClassifier\n",
    "import numpy as np\n",
    "from utils import ganancia_total, semillerio_bools, semillerio_scores"
   ]
  },
  {
   "cell_type": "code",
   "execution_count": 12,
   "metadata": {},
   "outputs": [],
   "source": [
    "X_train = np.load('data_proceso/X_train.npy',allow_pickle=True)\n",
    "y_train = np.load('data_proceso/y_train.npy')\n",
    "X_test = np.load('data_proceso/X_test.npy',allow_pickle=True)\n",
    "y_test = np.load('data_proceso/y_test.npy')\n",
    "feature_names = list(np.load('data_proceso/feature_names.npy'))"
   ]
  },
  {
   "cell_type": "code",
   "execution_count": 14,
   "metadata": {},
   "outputs": [
    {
     "data": {
      "text/plain": [
       "(21000, 155)"
      ]
     },
     "execution_count": 14,
     "metadata": {},
     "output_type": "execute_result"
    }
   ],
   "source": [
    "X_test.shape"
   ]
  },
  {
   "cell_type": "code",
   "execution_count": 13,
   "metadata": {},
   "outputs": [
    {
     "data": {
      "text/plain": [
       "(84000, 155)"
      ]
     },
     "execution_count": 13,
     "metadata": {},
     "output_type": "execute_result"
    }
   ],
   "source": [
    "X_train.shape"
   ]
  },
  {
   "cell_type": "code",
   "execution_count": 6,
   "metadata": {},
   "outputs": [],
   "source": [
    "def probar_en_held_out_semillerio(params, X_train, y_train, X_test, y_test, feature_names,func_semillerio, n_seeds, func_eval):\n",
    "    y_pred = func_semillerio(size=X_test.shape[0],\n",
    "                    n_seeds=n_seeds,\n",
    "                    X=X_train,\n",
    "                    y=y_train,\n",
    "                    new_X=X_test,\n",
    "                    feature_names=feature_names,\n",
    "                    estimator=LGBMClassifier,\n",
    "                    params=params)\n",
    "    \n",
    "    return func_eval(y_test,y_pred)"
   ]
  },
  {
   "cell_type": "code",
   "execution_count": 8,
   "metadata": {},
   "outputs": [
    {
     "name": "stdout",
     "output_type": "stream",
     "text": [
      "ganancia:\n",
      "103846000\n"
     ]
    }
   ],
   "source": [
    "params = {\n",
    "}\n",
    "\n",
    "score = probar_en_held_out_semillerio(params,\n",
    "                                    X_train,\n",
    "                                    y_train,\n",
    "                                    X_test,\n",
    "                                    y_test,\n",
    "                                    feature_names,\n",
    "                                    semillerio_bools,\n",
    "                                    n_seeds= 25,\n",
    "                                    func_eval= ganancia_total)\n",
    "\n",
    "print('ganancia:')\n",
    "print(score)"
   ]
  },
  {
   "cell_type": "code",
   "execution_count": 11,
   "metadata": {},
   "outputs": [
    {
     "name": "stdout",
     "output_type": "stream",
     "text": [
      "ganancia:\n",
      "103846000\n"
     ]
    }
   ],
   "source": [
    "params = {\n",
    "}\n",
    "\n",
    "score = probar_en_held_out_semillerio(params,\n",
    "                                    X_train,\n",
    "                                    y_train,\n",
    "                                    X_test,\n",
    "                                    y_test,\n",
    "                                    feature_names,\n",
    "                                    semillerio_scores,\n",
    "                                    n_seeds= 100,\n",
    "                                    func_eval= ganancia_total)\n",
    "\n",
    "print('ganancia:')\n",
    "print(score)"
   ]
  },
  {
   "cell_type": "code",
   "execution_count": null,
   "metadata": {},
   "outputs": [],
   "source": []
  }
 ],
 "metadata": {
  "interpreter": {
   "hash": "83f819a7c7b4b04da698bb686dbfa0aeaa192108f30ae9d3cf384d70516a554d"
  },
  "kernelspec": {
   "display_name": "Python 3.8.10 ('dmeyf-kP6Zbi_a')",
   "language": "python",
   "name": "python3"
  },
  "language_info": {
   "codemirror_mode": {
    "name": "ipython",
    "version": 3
   },
   "file_extension": ".py",
   "mimetype": "text/x-python",
   "name": "python",
   "nbconvert_exporter": "python",
   "pygments_lexer": "ipython3",
   "version": "3.8.10"
  },
  "orig_nbformat": 4
 },
 "nbformat": 4,
 "nbformat_minor": 2
}
