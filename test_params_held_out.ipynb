{
 "cells": [
  {
   "cell_type": "code",
   "execution_count": 1,
   "metadata": {},
   "outputs": [],
   "source": [
    "from lightgbm import LGBMClassifier\n",
    "import numpy as np\n",
    "from utils import g_score"
   ]
  },
  {
   "cell_type": "code",
   "execution_count": 5,
   "metadata": {},
   "outputs": [],
   "source": [
    "def probar_en_held_out(params, X_train, y_train, X_test, y_test, feature_names):\n",
    "    model = LGBMClassifier(**params)\n",
    "    model.fit(X_train, y_train, feature_name =feature_names)\n",
    "    #scores = model.predict_proba(X_test)\n",
    "    #y_pred = scores[:,1] > 0.025\n",
    "    #return ganancia_total(y_test,y_pred), y_pred\n",
    "    return g_score(model, X_test, y_test), model"
   ]
  },
  {
   "cell_type": "code",
   "execution_count": 6,
   "metadata": {},
   "outputs": [],
   "source": [
    "X_train = np.load('data_proceso/X_train.npy',allow_pickle=True)\n",
    "y_train = np.load('data_proceso/y_train.npy')\n",
    "X_test = np.load('data_proceso/X_test.npy',allow_pickle=True)\n",
    "y_test = np.load('data_proceso/y_test.npy')\n",
    "feature_names = list(np.load('data_proceso/feature_names.npy'))"
   ]
  },
  {
   "cell_type": "code",
   "execution_count": 9,
   "metadata": {},
   "outputs": [
    {
     "name": "stdout",
     "output_type": "stream",
     "text": [
      "ganancia:\n",
      "103846000\n",
      "10077\n"
     ]
    }
   ],
   "source": [
    "#no volver a correr\n",
    "from utils import ganancia_total\n",
    "def probar_en_held_out(params, X_train, y_train, X_test, y_test, feature_names):\n",
    "    model = LGBMClassifier(**params)\n",
    "    model.fit(X_train, y_train, feature_name =feature_names)\n",
    "    scores = model.predict_proba(X_test)\n",
    "    y_pred = scores[:,1] > 0.025\n",
    "    return ganancia_total(y_test,y_pred), y_pred\n",
    "\n",
    "params = {\n",
    "'random_state':1\n",
    "}\n",
    "\n",
    "score, goods = probar_en_held_out(params, X_train, y_train, X_test, y_test, feature_names)\n",
    "\n",
    "print('ganancia:')\n",
    "print(score)\n",
    "\n",
    "print(sum(goods))\n",
    "\n",
    "# print('feature_importance:')\n",
    "# for i in range(20):\n",
    "#     print(feature_names[model.feature_importances_[i]])"
   ]
  },
  {
   "cell_type": "code",
   "execution_count": 8,
   "metadata": {},
   "outputs": [
    {
     "name": "stdout",
     "output_type": "stream",
     "text": [
      "ganancia:\n",
      "103846000\n",
      "feature_importance:\n",
      "ctarjeta_visa_debitos_automaticos\n",
      "cliente_edad\n",
      "active_quarter\n",
      "mcomisiones_otras\n",
      "mforex_sell\n",
      "minversion2\n",
      "ccajeros_propios_descuentos\n",
      "cseguro_vivienda\n",
      "ctarjeta_visa_debitos_automaticos\n",
      "ctarjeta_visa_debitos_automaticos\n",
      "mcaja_ahorro\n",
      "tpaquete6\n",
      "mpasivos_margen\n",
      "numero_de_cliente\n",
      "mcomisiones\n",
      "numero_de_cliente\n",
      "numero_de_cliente\n",
      "cproductos\n",
      "numero_de_cliente\n",
      "cliente_edad\n"
     ]
    }
   ],
   "source": [
    "params = {\n",
    "'random_state':1\n",
    "}\n",
    "#oljo aca es la versiion 1\n",
    "score, model = probar_en_held_out(params, X_train, y_train, X_test, y_test, feature_names)\n",
    "\n",
    "print('ganancia:')\n",
    "print(score)\n",
    "\n",
    "print('feature_importance:')\n",
    "for i in range(20):\n",
    "    print(feature_names[model.feature_importances_[i]])"
   ]
  },
  {
   "cell_type": "code",
   "execution_count": null,
   "metadata": {},
   "outputs": [],
   "source": [
    "params = {\n",
    "'random_state':1\n",
    "}\n",
    "#oljo aca es la versiion 1\n",
    "score, model = probar_en_held_out(params, X_train, y_train, X_test, y_test, feature_names)\n",
    "\n",
    "print('ganancia:')\n",
    "print(score)\n",
    "\n",
    "print('feature_importance:')\n",
    "for i in range(20):\n",
    "    print(feature_names[model.feature_importances_[i]])"
   ]
  }
 ],
 "metadata": {
  "interpreter": {
   "hash": "83f819a7c7b4b04da698bb686dbfa0aeaa192108f30ae9d3cf384d70516a554d"
  },
  "kernelspec": {
   "display_name": "Python 3.8.10 ('dmeyf-kP6Zbi_a')",
   "language": "python",
   "name": "python3"
  },
  "language_info": {
   "codemirror_mode": {
    "name": "ipython",
    "version": 3
   },
   "file_extension": ".py",
   "mimetype": "text/x-python",
   "name": "python",
   "nbconvert_exporter": "python",
   "pygments_lexer": "ipython3",
   "version": "3.8.10"
  },
  "orig_nbformat": 4
 },
 "nbformat": 4,
 "nbformat_minor": 2
}
