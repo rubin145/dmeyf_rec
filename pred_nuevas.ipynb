{
 "cells": [
  {
   "cell_type": "code",
   "execution_count": 1,
   "metadata": {},
   "outputs": [],
   "source": [
    "from lightgbm import LGBMClassifier\n",
    "import numpy as np\n",
    "from utils import g_score"
   ]
  },
  {
   "cell_type": "code",
   "execution_count": 2,
   "metadata": {},
   "outputs": [],
   "source": [
    "X_dev = np.load('data_proceso/X_dev.npy',allow_pickle=True)\n",
    "y_dev = np.load('data_proceso/y_dev.npy')\n",
    "X_aplic = np.load('data_proceso/X_aplic.npy',allow_pickle=True)\n",
    "feature_names = list(np.load('data_proceso/feature_names.npy'))"
   ]
  },
  {
   "cell_type": "code",
   "execution_count": 3,
   "metadata": {},
   "outputs": [],
   "source": [
    "params = {\n",
    "    'random_state' : 1\n",
    "}"
   ]
  },
  {
   "cell_type": "code",
   "execution_count": 4,
   "metadata": {},
   "outputs": [],
   "source": [
    "model = LGBMClassifier(**params)\n",
    "model.fit(X_dev, y_dev, feature_name = feature_names)\n",
    "scores = model.predict_proba(X_aplic)\n",
    "y_pred = scores[:,1] > 0.025\n",
    "target = X_aplic[:,0][y_pred]\n",
    "np.savetxt('data_final/rubinstein_entrega.txt', target, fmt='%d')"
   ]
  },
  {
   "cell_type": "code",
   "execution_count": null,
   "metadata": {},
   "outputs": [],
   "source": [
    "\n"
   ]
  }
 ],
 "metadata": {
  "interpreter": {
   "hash": "83f819a7c7b4b04da698bb686dbfa0aeaa192108f30ae9d3cf384d70516a554d"
  },
  "kernelspec": {
   "display_name": "Python 3.8.10 ('dmeyf-kP6Zbi_a')",
   "language": "python",
   "name": "python3"
  },
  "language_info": {
   "codemirror_mode": {
    "name": "ipython",
    "version": 3
   },
   "file_extension": ".py",
   "mimetype": "text/x-python",
   "name": "python",
   "nbconvert_exporter": "python",
   "pygments_lexer": "ipython3",
   "version": "3.8.10"
  },
  "orig_nbformat": 4
 },
 "nbformat": 4,
 "nbformat_minor": 2
}
