{
 "cells": [
  {
   "cell_type": "code",
   "execution_count": 1,
   "metadata": {},
   "outputs": [],
   "source": [
    "import os\n",
    "import numpy as np\n",
    "import pandas as pd\n",
    "from utils import ganancia_total_score"
   ]
  },
  {
   "cell_type": "code",
   "execution_count": 25,
   "metadata": {},
   "outputs": [],
   "source": [
    "y_test = np.load('data_proceso/y_test.npy')\n",
    "y_test_probas = pd.read_csv('data_origen/rubinstein_test_probas.txt',sep='\\t')\n",
    "feature_names = np.load('data_proceso/feature_names.npy')\n",
    "X_test = pd.DataFrame(np.load('data_proceso/X_test.npy',allow_pickle=True),columns=feature_names)"
   ]
  },
  {
   "cell_type": "code",
   "execution_count": 26,
   "metadata": {},
   "outputs": [
    {
     "data": {
      "text/plain": [
       "0        20601823\n",
       "1        15988165\n",
       "2        19360804\n",
       "3        12947478\n",
       "4        15557209\n",
       "           ...   \n",
       "20995    18629466\n",
       "20996    14311489\n",
       "20997    16504437\n",
       "20998    13662638\n",
       "20999    18288956\n",
       "Name: numero_de_cliente, Length: 21000, dtype: object"
      ]
     },
     "execution_count": 26,
     "metadata": {},
     "output_type": "execute_result"
    }
   ],
   "source": [
    "X_test['numero_de_cliente']"
   ]
  },
  {
   "cell_type": "code",
   "execution_count": 27,
   "metadata": {},
   "outputs": [],
   "source": [
    "X_test = pd.merge(X_test,y_test_probas,on='numero_de_cliente')"
   ]
  },
  {
   "cell_type": "code",
   "execution_count": 28,
   "metadata": {},
   "outputs": [
    {
     "data": {
      "text/plain": [
       "0        0.019692\n",
       "1        0.071962\n",
       "2        0.020219\n",
       "3        0.186473\n",
       "4        0.005519\n",
       "           ...   \n",
       "20995    0.076946\n",
       "20996    0.020983\n",
       "20997    0.209665\n",
       "20998    0.005777\n",
       "20999    0.006276\n",
       "Name: prob_positivo, Length: 21000, dtype: float64"
      ]
     },
     "execution_count": 28,
     "metadata": {},
     "output_type": "execute_result"
    }
   ],
   "source": [
    "X_test['prob_positivo']"
   ]
  },
  {
   "cell_type": "code",
   "execution_count": 29,
   "metadata": {},
   "outputs": [
    {
     "data": {
      "text/plain": [
       "0        20601823\n",
       "1        15988165\n",
       "2        19360804\n",
       "3        12947478\n",
       "4        15557209\n",
       "           ...   \n",
       "20995    18629466\n",
       "20996    14311489\n",
       "20997    16504437\n",
       "20998    13662638\n",
       "20999    18288956\n",
       "Name: numero_de_cliente, Length: 21000, dtype: object"
      ]
     },
     "execution_count": 29,
     "metadata": {},
     "output_type": "execute_result"
    }
   ],
   "source": [
    "X_test['numero_de_cliente']"
   ]
  },
  {
   "cell_type": "code",
   "execution_count": 30,
   "metadata": {},
   "outputs": [
    {
     "data": {
      "text/plain": [
       "105030000"
      ]
     },
     "execution_count": 30,
     "metadata": {},
     "output_type": "execute_result"
    }
   ],
   "source": [
    "ganancia_total_score(y_test,X_test['prob_positivo'])"
   ]
  },
  {
   "cell_type": "code",
   "execution_count": 35,
   "metadata": {},
   "outputs": [
    {
     "data": {
      "text/plain": [
       "10165"
      ]
     },
     "execution_count": 35,
     "metadata": {},
     "output_type": "execute_result"
    }
   ],
   "source": [
    "sum(X_test['prob_positivo'] > 0.025)"
   ]
  },
  {
   "cell_type": "code",
   "execution_count": 31,
   "metadata": {},
   "outputs": [
    {
     "data": {
      "text/plain": [
       "-1184000"
      ]
     },
     "execution_count": 31,
     "metadata": {},
     "output_type": "execute_result"
    }
   ],
   "source": [
    "#mi test vs lineademuerte test\n",
    "\n",
    "103_846_000 - 105_030_000"
   ]
  },
  {
   "cell_type": "code",
   "execution_count": 32,
   "metadata": {},
   "outputs": [
    {
     "data": {
      "text/plain": [
       "1699"
      ]
     },
     "execution_count": 32,
     "metadata": {},
     "output_type": "execute_result"
    }
   ],
   "source": [
    "sum(y_test)"
   ]
  },
  {
   "cell_type": "code",
   "execution_count": 33,
   "metadata": {},
   "outputs": [
    {
     "data": {
      "text/plain": [
       "132522000"
      ]
     },
     "execution_count": 33,
     "metadata": {},
     "output_type": "execute_result"
    }
   ],
   "source": [
    "1699*78000"
   ]
  },
  {
   "cell_type": "code",
   "execution_count": 34,
   "metadata": {},
   "outputs": [
    {
     "data": {
      "text/plain": [
       "78.36132868504852"
      ]
     },
     "execution_count": 34,
     "metadata": {},
     "output_type": "execute_result"
    }
   ],
   "source": [
    "103_846_000 / 132_522_000 * 100"
   ]
  }
 ],
 "metadata": {
  "interpreter": {
   "hash": "83f819a7c7b4b04da698bb686dbfa0aeaa192108f30ae9d3cf384d70516a554d"
  },
  "kernelspec": {
   "display_name": "Python 3.8.10 ('dmeyf-kP6Zbi_a')",
   "language": "python",
   "name": "python3"
  },
  "language_info": {
   "codemirror_mode": {
    "name": "ipython",
    "version": 3
   },
   "file_extension": ".py",
   "mimetype": "text/x-python",
   "name": "python",
   "nbconvert_exporter": "python",
   "pygments_lexer": "ipython3",
   "version": "3.8.10"
  },
  "orig_nbformat": 4
 },
 "nbformat": 4,
 "nbformat_minor": 2
}
